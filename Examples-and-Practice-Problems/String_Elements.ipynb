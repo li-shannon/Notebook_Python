{
  "nbformat": 4,
  "nbformat_minor": 0,
  "metadata": {
    "colab": {
      "provenance": [],
      "toc_visible": true
    },
    "kernelspec": {
      "name": "python3",
      "display_name": "Python 3"
    },
    "language_info": {
      "name": "python"
    }
  },
  "cells": [
    {
      "cell_type": "markdown",
      "source": [
        "# Count Vowels in a String"
      ],
      "metadata": {
        "id": "EPSWtarlG5Os"
      }
    },
    {
      "cell_type": "markdown",
      "source": [
        "Assume `s` is a string of lower case characters.\n",
        "\n",
        "Write a program that counts up the number of vowels contained in the string `s`. Valid vowels are: '`a`', '`e`', '`i`', '`o`', and '`u`'.  Please use `s = 'azcbobobegghakl'` for testing. Your program should print: `Number of vowels: 5`"
      ],
      "metadata": {
        "id": "HkUwMIatHJWP"
      }
    },
    {
      "cell_type": "code",
      "source": [
        "s = 'azcbobobegghakl'\n",
        "vowel_count = 0\n",
        "for letter in s:\n",
        "    if letter in ['a', 'e', 'i', 'o', 'u']:\n",
        "        vowel_count += 1\n",
        "print('Number of vowels:', vowel_count)"
      ],
      "metadata": {
        "colab": {
          "base_uri": "https://localhost:8080/"
        },
        "id": "2pOgIcIpMX-K",
        "outputId": "26d2dd55-100b-4eb5-ab64-9254b6c0cc38"
      },
      "execution_count": null,
      "outputs": [
        {
          "output_type": "stream",
          "name": "stdout",
          "text": [
            "Number of vowels: 5\n"
          ]
        }
      ]
    },
    {
      "cell_type": "markdown",
      "source": [
        "# Count Substrings in a String"
      ],
      "metadata": {
        "id": "Z3oFB4MRHoLO"
      }
    },
    {
      "cell_type": "markdown",
      "source": [
        "Assume `s` is a string of lower case characters.\n",
        "\n",
        "Write a program that prints the number of times the string `'bob'` occurs in `s`. Please use `s = 'azcbobobegghakl'` for testing.  Your program should print: `Number of times bob occurs is: 2`"
      ],
      "metadata": {
        "id": "8R6pihdwHxGw"
      }
    },
    {
      "cell_type": "code",
      "source": [
        "s = 'azcbobobegghakl'\n",
        "bob_count = 0\n",
        "for i in range(len(s) - 2):\n",
        "    if s[i: i+3] == 'bob':\n",
        "        bob_count += 1\n",
        "print('Number of times bob occurs is:', bob_count)"
      ],
      "metadata": {
        "colab": {
          "base_uri": "https://localhost:8080/"
        },
        "id": "KVQo0TkgXifv",
        "outputId": "08043277-e151-49e0-87b0-660099c9a7cc"
      },
      "execution_count": null,
      "outputs": [
        {
          "output_type": "stream",
          "name": "stdout",
          "text": [
            "Number of times bob occurs is: 2\n"
          ]
        }
      ]
    },
    {
      "cell_type": "markdown",
      "source": [
        "# Find the Longest Substrings in a String"
      ],
      "metadata": {
        "id": "nkOGBJEwjmkN"
      }
    },
    {
      "cell_type": "markdown",
      "source": [
        "Assume `s` is a string of lower case characters.\n",
        "\n",
        "Write a program that prints the longest substring of `s` in which the letters occur in alphabetical order. Please use `s = 'azcbobobegghakl'` to test your codes. Your program should print `Longest substring in alphabetical order is: beggh`\n",
        "\n",
        "In the case of ties, print the first substring. For example, if `s = 'abcbcd'`, then your program should print `Longest substring in alphabetical order is: abc`"
      ],
      "metadata": {
        "id": "Iqg-CVD4jxt-"
      }
    },
    {
      "cell_type": "code",
      "source": [
        "def print_longest(s):\n",
        "    longest_string = ''\n",
        "    current_string = ''\n",
        "\n",
        "    for i in range(len(s)):\n",
        "        if i == 0 or s[i] >= s[i-1]:\n",
        "            current_string += s[i]\n",
        "        else:\n",
        "            if len(current_string) > len(longest_string):\n",
        "                longest_string = current_string\n",
        "            current_string = s[i]\n",
        "\n",
        "    if len(current_string) > len(longest_string):\n",
        "        longest_string = current_string\n",
        "\n",
        "    print('Longest substring in alphabetical order is:', longest_string)\n",
        "\n",
        "s = 'azcbobobegghakl'\n",
        "print_longest(s)\n",
        "\n",
        "s = 'abcbcd'\n",
        "print_longest(s)"
      ],
      "metadata": {
        "id": "0Qa9HhMDjFRr",
        "colab": {
          "base_uri": "https://localhost:8080/"
        },
        "outputId": "bba84f2d-b50c-436c-f579-53183c5eac6e"
      },
      "execution_count": null,
      "outputs": [
        {
          "output_type": "stream",
          "name": "stdout",
          "text": [
            "Longest substring in alphabetical order is: beggh\n",
            "Longest substring in alphabetical order is: abc\n"
          ]
        }
      ]
    },
    {
      "cell_type": "code",
      "execution_count": null,
      "metadata": {
        "id": "NEJd3I9icbrt",
        "colab": {
          "base_uri": "https://localhost:8080/"
        },
        "outputId": "31d96345-906d-4847-fb78-c06723dc04c4"
      },
      "outputs": [
        {
          "output_type": "stream",
          "name": "stdout",
          "text": [
            "Longest string in alphabetical order is: beggh\n",
            "Longest string in alphabetical order is: abc\n"
          ]
        }
      ],
      "source": [
        "def find_longest(s):\n",
        "    longest_string = ''\n",
        "    for i in range(len(s)):\n",
        "        if i == 0 or s[i] >= s[i-1]:\n",
        "            longest_string += s[i]\n",
        "        else:\n",
        "            new_string = find_longest(s[i: ])\n",
        "            if len(new_string) > len(longest_string):\n",
        "                longest_string = new_string\n",
        "            break;\n",
        "    return longest_string\n",
        "\n",
        "s = 'azcbobobegghakl'\n",
        "print('Longest string in alphabetical order is:', find_longest(s))\n",
        "\n",
        "s = 'abcbcd'\n",
        "print('Longest string in alphabetical order is:', find_longest(s))"
      ]
    }
  ]
}
