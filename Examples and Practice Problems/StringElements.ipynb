{
  "nbformat": 4,
  "nbformat_minor": 0,
  "metadata": {
    "colab": {
      "provenance": [],
      "toc_visible": true
    },
    "kernelspec": {
      "name": "python3",
      "display_name": "Python 3"
    },
    "language_info": {
      "name": "python"
    }
  },
  "cells": [
    {
      "cell_type": "markdown",
      "source": [
        "# Count Vowels in a String"
      ],
      "metadata": {
        "id": "EPSWtarlG5Os"
      }
    },
    {
      "cell_type": "markdown",
      "source": [
        "Assume `s` is a string of lower case characters.\n",
        "\n",
        "Write a program that counts up the number of vowels contained in the string `s`. Valid vowels are: '`a`', '`e`', '`i`', '`o`', and '`u`'.  Please use `s = 'azcbobobegghakl'` for testing. Your program should print: `Number of vowels: 5`"
      ],
      "metadata": {
        "id": "HkUwMIatHJWP"
      }
    },
    {
      "cell_type": "code",
      "source": [
        "s = 'azcbobobegghakl'\n",
        "vowel_count = 0\n",
        "for letter in s:\n",
        "    if letter in ['a', 'e', 'i', 'o', 'u']:\n",
        "        vowel_count += 1\n",
        "print('Number of vowels:', vowel_count)"
      ],
      "metadata": {
        "colab": {
          "base_uri": "https://localhost:8080/"
        },
        "id": "2pOgIcIpMX-K",
        "outputId": "26d2dd55-100b-4eb5-ab64-9254b6c0cc38"
      },
      "execution_count": null,
      "outputs": [
        {
          "output_type": "stream",
          "name": "stdout",
          "text": [
            "Number of vowels: 5\n"
          ]
        }
      ]
    },
    {
      "cell_type": "markdown",
      "source": [
        "# Count Substrings in a String"
      ],
      "metadata": {
        "id": "Z3oFB4MRHoLO"
      }
    },
    {
      "cell_type": "markdown",
      "source": [
        "Assume `s` is a string of lower case characters.\n",
        "\n",
        "Write a program that prints the number of times the string `'bob'` occurs in `s`. Please use `s = 'azcbobobegghakl'` for testing.  Your program should print: `Number of times bob occurs is: 2`"
      ],
      "metadata": {
        "id": "8R6pihdwHxGw"
      }
    },
    {
      "cell_type": "code",
      "source": [
        "s = 'azcbobobegghakl'\n",
        "bob_count = 0\n",
        "for i in range(len(s) - 2):\n",
        "    if s[i: i+3] == 'bob':\n",
        "        bob_count += 1\n",
        "print('Number of times bob occurs is:', bob_count)"
      ],
      "metadata": {
        "colab": {
          "base_uri": "https://localhost:8080/"
        },
        "id": "KVQo0TkgXifv",
        "outputId": "08043277-e151-49e0-87b0-660099c9a7cc"
      },
      "execution_count": null,
      "outputs": [
        {
          "output_type": "stream",
          "name": "stdout",
          "text": [
            "Number of times bob occurs is: 2\n"
          ]
        }
      ]
    }
  ]
}