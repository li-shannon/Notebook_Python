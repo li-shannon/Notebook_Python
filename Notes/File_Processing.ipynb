{
  "metadata": {
    "kernelspec": {
      "name": "python",
      "display_name": "Python (Pyodide)",
      "language": "python"
    },
    "language_info": {
      "codemirror_mode": {
        "name": "python",
        "version": 3
      },
      "file_extension": ".py",
      "mimetype": "text/x-python",
      "name": "python",
      "nbconvert_exporter": "python",
      "pygments_lexer": "ipython3",
      "version": "3.8"
    },
    "prev_pub_hash": "203d69fb86f67c8be11a768895ba0232cce5ffc751de72ccc245daefea5f82e9"
  },
  "nbformat_minor": 4,
  "nbformat": 4,
  "cells": [
    {
      "cell_type": "markdown",
      "source": "# Reading and Writing Files",
      "metadata": {}
    },
    {
      "cell_type": "code",
      "source": "## Uncomment these if working locally, else let the following code cell run.\n\n# import urllib.request\n# url = 'https://cf-courses-data.s3.us.cloud-object-storage.appdomain.cloud/IBMDeveloperSkillsNetwork-PY0101EN-SkillsNetwork/labs/Module%204/data/example1.txt'\n# filename = 'Example1.txt'\n# urllib.request.urlretrieve(url, filename)\n\n## Download Example file\n# !wget Example1.txt https://cf-courses-data.s3.us.cloud-object-storage.appdomain.cloud/IBMDeveloperSkillsNetwork-PY0101EN-SkillsNetwork/labs/Module%204/data/example1.txt",
      "metadata": {
        "trusted": true
      },
      "outputs": [],
      "execution_count": 1
    },
    {
      "cell_type": "code",
      "source": "from pyodide.http import pyfetch\n\nimport pandas as pd\n\nfilename = \"https://cf-courses-data.s3.us.cloud-object-storage.appdomain.cloud/IBMDeveloperSkillsNetwork-PY0101EN-SkillsNetwork/labs/Module%204/data/example1.txt\"\n\nasync def download(url, filename):\n    response = await pyfetch(url)\n    if response.status == 200:\n        with open(filename, \"wb\") as f:\n            f.write(await response.bytes())\nawait download(filename, \"example1.txt\")\nprint(\"done\")",
      "metadata": {
        "trusted": true
      },
      "outputs": [
        {
          "name": "stderr",
          "text": "<ipython-input-2-8ddf12866b0b>:3: DeprecationWarning: \nPyarrow will become a required dependency of pandas in the next major release of pandas (pandas 3.0),\n(to allow more performant data types, such as the Arrow string type, and better interoperability with other libraries)\nbut was not found to be installed on your system.\nIf this would cause problems for you,\nplease provide us feedback at https://github.com/pandas-dev/pandas/issues/54466\n        \n  import pandas as pd\n",
          "output_type": "stream"
        },
        {
          "name": "stdout",
          "text": "done\n",
          "output_type": "stream"
        }
      ],
      "execution_count": 2
    },
    {
      "cell_type": "markdown",
      "source": "<hr>\n",
      "metadata": {}
    },
    {
      "cell_type": "markdown",
      "source": "## The <code>open()</code> Method",
      "metadata": {}
    },
    {
      "cell_type": "markdown",
      "source": "Use <code>open()</code> to obtain a file object, which contains the methods and attributes needed in order to read, save, and manipulate the files. It needs two arguments: the file path and the mode.\n\nThe mode argument is optional with the default value being <code>\"r\"</code>, which denotes reading. The other options include <code>\"w\"</code> for writing and </code>\"a\"</code> for appending.",
      "metadata": {}
    },
    {
      "cell_type": "code",
      "source": "# Read the Example1.txt\nexample1 = \"example1.txt\"\nfile1 = open(example1, \"r\")",
      "metadata": {
        "trusted": true
      },
      "outputs": [],
      "execution_count": 3
    },
    {
      "cell_type": "markdown",
      "source": "We can view the attributes of the file using <code>.name</code>, <code>mode</code>, etc.\n",
      "metadata": {}
    },
    {
      "cell_type": "code",
      "source": "# Print the path and mode of the file\nprint(file1.name)\nprint(file1.mode)",
      "metadata": {
        "trusted": true
      },
      "outputs": [
        {
          "name": "stdout",
          "text": "example1.txt\nr\n",
          "output_type": "stream"
        }
      ],
      "execution_count": 5
    },
    {
      "cell_type": "markdown",
      "source": "Use the <code>print()</code> method to directly print the contents of the file.\n",
      "metadata": {}
    },
    {
      "cell_type": "code",
      "source": "print(FileContent)",
      "metadata": {
        "trusted": true
      },
      "outputs": [
        {
          "name": "stdout",
          "text": "This is line 1 \nThis is line 2\nThis is line 3\n",
          "output_type": "stream"
        }
      ],
      "execution_count": 7
    },
    {
      "cell_type": "markdown",
      "source": "Use the <code>.read()</code> method to read the contents. Contents obtained from reading a file can be stored into a variable. To control how many characters are read from the file, add an numerical argument in the method.",
      "metadata": {}
    },
    {
      "cell_type": "code",
      "source": "FileContent = file1.read()\nFileContent",
      "metadata": {
        "trusted": true
      },
      "outputs": [
        {
          "execution_count": 6,
          "output_type": "execute_result",
          "data": {
            "text/plain": "'This is line 1 \\nThis is line 2\\nThis is line 3'"
          },
          "metadata": {}
        }
      ],
      "execution_count": 6
    },
    {
      "cell_type": "markdown",
      "source": "It is very important that the file is closed in the end. It frees up resources and ensures consistency across different python versions.\n",
      "metadata": {}
    },
    {
      "cell_type": "code",
      "source": "file1.close()",
      "metadata": {
        "trusted": true
      },
      "outputs": [],
      "execution_count": 7
    },
    {
      "cell_type": "markdown",
      "source": "Use the <code>readline()</code> method to read one line at a time. Pass a numerical argument to the method to determine how many lines are read. The contents read from the file can be saved into a list, with each element corresponding to a line of text.",
      "metadata": {}
    },
    {
      "cell_type": "code",
      "source": "with open(example1, \"r\") as file1:\n    print(\"first line: \" + file1.readline())",
      "metadata": {
        "trusted": true
      },
      "outputs": [
        {
          "name": "stdout",
          "text": "first line: This is line 1 \n\n",
          "output_type": "stream"
        }
      ],
      "execution_count": 11
    },
    {
      "cell_type": "markdown",
      "source": "<hr>\n",
      "metadata": {}
    },
    {
      "cell_type": "markdown",
      "source": "## The <code>with</code> Statement\n",
      "metadata": {}
    },
    {
      "cell_type": "markdown",
      "source": "Using the <code>with</code> statement is better practice, it automatically closes the file even if the code encounters an exception. The code will run everything in the indent block then close the file object.\n",
      "metadata": {}
    },
    {
      "cell_type": "code",
      "source": "with open(example1, \"r\") as file1:\n    FileContent = file1.read()\n    print(FileContent)",
      "metadata": {
        "trusted": true
      },
      "outputs": [
        {
          "name": "stdout",
          "text": "This is line 1 \nThis is line 2\nThis is line 3\n",
          "output_type": "stream"
        }
      ],
      "execution_count": 8
    },
    {
      "cell_type": "code",
      "source": "file1.closed",
      "metadata": {
        "trusted": true
      },
      "outputs": [
        {
          "execution_count": 9,
          "output_type": "execute_result",
          "data": {
            "text/plain": "True"
          },
          "metadata": {}
        }
      ],
      "execution_count": 9
    },
    {
      "cell_type": "markdown",
      "source": "Note that the contents read and saved to the variable can still be accessed and used outside the <code>with</code> block.",
      "metadata": {}
    },
    {
      "cell_type": "code",
      "source": "print(FileContent)",
      "metadata": {
        "trusted": true
      },
      "outputs": [
        {
          "name": "stdout",
          "text": "This is line 1 \nThis is line 2\nThis is line 3\n",
          "output_type": "stream"
        }
      ],
      "execution_count": 10
    },
    {
      "cell_type": "markdown",
      "source": "<hr>",
      "metadata": {}
    }
  ]
}