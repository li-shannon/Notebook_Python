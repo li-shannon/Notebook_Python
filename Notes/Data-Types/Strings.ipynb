{
  "cells": [
    {
      "cell_type": "markdown",
      "metadata": {},
      "source": [
        "# String"
      ]
    },
    {
      "cell_type": "markdown",
      "metadata": {},
      "source": [
        "Strings are sequences of digits, characters, and spaces denoted by <code>str</code>. A string can be written using either single or double quotation marks.\n",
        "\n",
        "Elements in a string can be accessed using indexes (positive or negative)."
      ]
    },
    {
      "cell_type": "markdown",
      "metadata": {},
      "source": [
        "## String Operations"
      ]
    },
    {
      "cell_type": "markdown",
      "metadata": {},
      "source": [
        "### Changing Case\n",
        "Use <code>.title</code>, <code>.upper()</code>, and <code>.lower</code> to change a string into title, upper, or lower case."
      ]
    },
    {
      "cell_type": "code",
      "execution_count": 1,
      "metadata": {},
      "outputs": [
        {
          "name": "stdout",
          "output_type": "stream",
          "text": [
            "Ada Lovelace\n",
            "ADA LOVELACE\n",
            "ada lovelace\n"
          ]
        }
      ],
      "source": [
        "name = \"ada lovelace\"\n",
        "print(name.title())\n",
        "print(name.upper())\n",
        "print(name.lower())"
      ]
    },
    {
      "cell_type": "markdown",
      "metadata": {},
      "source": [
        "#### Slicing a string\n",
        "Strings can be sliced using <code>string_name[start:end]</code> in which <code>start</code> (inclusive) and <code>end</code> (exclusive) indicate the index positions in the sliced string."
      ]
    },
    {
      "cell_type": "code",
      "execution_count": 2,
      "metadata": {},
      "outputs": [
        {
          "data": {
            "text/plain": [
              "'Mich'"
            ]
          },
          "execution_count": 2,
          "metadata": {},
          "output_type": "execute_result"
        }
      ],
      "source": [
        "name = \"Michael Jackson\"\n",
        "name[0:4]"
      ]
    },
    {
      "cell_type": "markdown",
      "metadata": {},
      "source": [
        "We can also input a stide value using <code>string_name[start:end:step]</code> to select characters at every *nth* position."
      ]
    },
    {
      "cell_type": "code",
      "execution_count": 3,
      "metadata": {},
      "outputs": [
        {
          "data": {
            "text/plain": [
              "'McalJcsn'"
            ]
          },
          "execution_count": 3,
          "metadata": {},
          "output_type": "execute_result"
        }
      ],
      "source": [
        "name[::2]"
      ]
    },
    {
      "cell_type": "markdown",
      "metadata": {},
      "source": [
        "#### Manipulating a string\n",
        "Strings are sequences and, therefore, can apply functions that work on lists and tuples. Strings also have snother set of functions that just work on strings.\n",
        "\n",
        "Use <code>.upper()</code> and <code>.lower()</code> to change the characters in a string into upper or lower cases.\n",
        "\n",
        "Use <code>.replace(old, new, count)</code> to replace a segaement if a string. The <code>count</code> parameter indicated the number of times the segament will be replace. If not specified, all occurrences will be replaced. If the substring to replace is unfound, the original string is returned unchanged.\n",
        "\n",
        "Use <code>.find(substring)</code> to find a substring. The output is the first index of the substring in the original string."
      ]
    },
    {
      "cell_type": "code",
      "execution_count": 4,
      "metadata": {},
      "outputs": [
        {
          "data": {
            "text/plain": [
              "5"
            ]
          },
          "execution_count": 4,
          "metadata": {},
          "output_type": "execute_result"
        }
      ],
      "source": [
        "name.find('el')"
      ]
    },
    {
      "cell_type": "markdown",
      "metadata": {},
      "source": [
        "## Escape sequences"
      ]
    },
    {
      "cell_type": "markdown",
      "metadata": {},
      "source": [
        "Back slashes represent the begining of escape sequences. Escape sequences represent strings that are difficult to input.\n",
        "1. <code>/n</code> represents a new line.\n",
        "\n",
        "2. <code>/t</code> represents a tab."
      ]
    },
    {
      "cell_type": "markdown",
      "metadata": {},
      "source": [
        "## RegEx"
      ]
    },
    {
      "cell_type": "markdown",
      "metadata": {},
      "source": [
        "RegEx (short for Regular Expression) is a tool for mataching and handling strings. Python provides a built-in module <code>re</code> which allows you to work with regular expressions.\n",
        "\n",
        "The <code>.search()</code> function searches for specified patterns in a string."
      ]
    },
    {
      "cell_type": "code",
      "execution_count": 5,
      "metadata": {},
      "outputs": [
        {
          "name": "stdout",
          "output_type": "stream",
          "text": [
            "Match found!\n"
          ]
        }
      ],
      "source": [
        "import re\n",
        "\n",
        "string1 = \"Michael Jackson is the best\"\n",
        "\n",
        "pattern = r\"Jackson\" # Define the pattern to search for\n",
        "result = re.search(pattern, string1)\n",
        "\n",
        "if result:\n",
        "    print(\"Match found!\")\n",
        "else:\n",
        "    print(\"Match not found.\")"
      ]
    },
    {
      "cell_type": "markdown",
      "metadata": {},
      "source": [
        "Regular expressions (RegEx) are patterns used to match and manipulate strings of text. There are several special sequences in RegEx that can be used to match specific characters or patterns.\n",
        "\n",
        "| Special Sequence | Meaning                 | \tExample             |\n",
        "| -----------  | ----------------------- | ----------------------|\n",
        "|\\d|Matches any digit character (0-9)|\"123\" matches \"\\d\\d\\d\"|\n",
        "|\\D|Matches any non-digit character|\"hello\" matches \"\\D\\D\\D\\D\\D\"|\n",
        "|\\w|Matches any word character (a-z, A-Z, 0-9, and _)|\"hello_world\" matches \"\\w\\w\\w\\w\\w\\w\\w\\w\\w\\w\\w\"|\n",
        "|\\W|Matches any non-word character|\t\"@#$%\" matches \"\\W\\W\\W\\W\"|\n",
        "|\\s|Matches any whitespace character (space, tab, newline, etc.)|\"hello world\" matches \"\\w\\w\\w\\w\\w\\s\\w\\w\\w\\w\\w\"|\n",
        "|\\S|Matches any non-whitespace character|\"hello_world\" matches \"\\S\\S\\S\\S\\S\\S\\S\\S\\S\"|\n",
        "|\\b|Matches the boundary between a word character and a non-word character|\"cat\" matches \"\\bcat\\b\" in \"The cat sat on the mat\"|\n",
        "|\\B|Matches any position that is not a word boundary|\"cat\" matches \"\\Bcat\\B\" in \"category\" but not in \"The cat sat on the mat\"|\n",
        "\n",
        "The <code>.findall(pattern, string)</code> function finds all occurrences of a specified pattern within a string. The ourput is a list."
      ]
    },
    {
      "cell_type": "code",
      "execution_count": 8,
      "metadata": {},
      "outputs": [
        {
          "name": "stdout",
          "output_type": "stream",
          "text": [
            "Matches: [',', ' ', '!']\n"
          ]
        }
      ],
      "source": [
        "pattern = r\"\\W\"\n",
        "text = \"Hello, world!\"\n",
        "matches = re.findall(pattern, text)\n",
        "print(\"Matches:\", matches)"
      ]
    },
    {
      "cell_type": "markdown",
      "metadata": {},
      "source": [
        "The <code>.split(pattern, string)</code> function splits a string into a list of substrings based on a specified pattern."
      ]
    },
    {
      "cell_type": "code",
      "execution_count": 10,
      "metadata": {},
      "outputs": [
        {
          "name": "stdout",
          "output_type": "stream",
          "text": [
            "['Michael', 'Jackson', 'was', 'a', 'singer', 'and', 'known', 'as', 'the', \"'King\", 'of', \"Pop'\"]\n"
          ]
        },
        {
          "name": "stderr",
          "output_type": "stream",
          "text": [
            "<>:2: SyntaxWarning: invalid escape sequence '\\s'\n",
            "<>:2: SyntaxWarning: invalid escape sequence '\\s'\n",
            "C:\\Users\\Coppe\\AppData\\Local\\Temp\\ipykernel_8656\\3187597792.py:2: SyntaxWarning: invalid escape sequence '\\s'\n",
            "  split_array = re.split(\"\\s\", string2)\n"
          ]
        }
      ],
      "source": [
        "string2 = \"Michael Jackson was a singer and known as the 'King of Pop'\"\n",
        "split_array = re.split(\"\\s\", string2)\n",
        "\n",
        "print(split_array)"
      ]
    },
    {
      "cell_type": "markdown",
      "metadata": {},
      "source": [
        "The <code>.sub(old, new, string)</code> to replace all occurrences of a segament within a string with a specified sequence."
      ]
    },
    {
      "cell_type": "code",
      "execution_count": 11,
      "metadata": {},
      "outputs": [
        {
          "name": "stdout",
          "output_type": "stream",
          "text": [
            "Michael Jackson was a singer and known as the 'legend'\n"
          ]
        }
      ],
      "source": [
        "pattern = r'King of Pop'\n",
        "replacement = 'legend'\n",
        "\n",
        "new_string = re.sub(pattern, replacement, string2, flags=re.IGNORECASE)\n",
        "print(new_string)"
      ]
    }
  ],
  "metadata": {
    "kernelspec": {
      "display_name": "Python 3",
      "language": "python",
      "name": "python3"
    },
    "language_info": {
      "codemirror_mode": {
        "name": "ipython",
        "version": 3
      },
      "file_extension": ".py",
      "mimetype": "text/x-python",
      "name": "python",
      "nbconvert_exporter": "python",
      "pygments_lexer": "ipython3",
      "version": "3.12.7"
    },
    "prev_pub_hash": "bf04fa8c6f54a0e7196d9d6ec7f24fb77c5cf48d3a1ff1353aa783d734c26e17"
  },
  "nbformat": 4,
  "nbformat_minor": 4
}
