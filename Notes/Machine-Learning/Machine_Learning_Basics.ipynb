{
 "cells": [
  {
   "cell_type": "markdown",
   "metadata": {},
   "source": [
    "# Types of Machines Learning Systems\n",
    "## Supervised v. Unsupervised Learning\n",
    "- <strong>Supervised learning</strong>: the training set includes the desired solutions called <i>labels</i>, and a set of features called <i>predictors</i>\n",
    "- <strong>Unsupervised learning</strong>: the traning set is unlabeled\n",
    "- <strong>Semisupervised learning</strong>: the training set is partially labeled"
   ]
  },
  {
   "cell_type": "markdown",
   "metadata": {},
   "source": [
    "- Pipeline: a sequence of data processing components\n",
    "  - Each component runs asynchronously, pulling in a large amount of data, processing it, and splitting out the result in another data store.\n",
    "  - The components are fairly self-contained, sharing only the data store, which allows different teams to focus on different components and the downstream components can continute to work even if a component breaks down."
   ]
  },
  {
   "cell_type": "markdown",
   "metadata": {},
   "source": [
    "# Performance Measures\n",
    "- "
   ]
  }
 ],
 "metadata": {
  "language_info": {
   "name": "python"
  }
 },
 "nbformat": 4,
 "nbformat_minor": 2
}
