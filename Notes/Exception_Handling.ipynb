{
 "cells": [
  {
   "cell_type": "markdown",
   "metadata": {},
   "source": [
    "# Exceptions"
   ]
  },
  {
   "cell_type": "markdown",
   "metadata": {},
   "source": [
    "<strong>Exceptions</strong> are alerts when something unexpected happens while running a program."
   ]
  },
  {
   "cell_type": "markdown",
   "metadata": {},
   "source": [
    "## Common Exceptions in Python"
   ]
  },
  {
   "cell_type": "markdown",
   "metadata": {},
   "source": [
    "- <strong>ZeroDivisionError</strong>: an attempt is made to divide a number by zero; division by zero is undefined in mathematics, causing an arithmetic error\n",
    "\n",
    "- <strong>ValueError</strong>: an inappropriate value is used within the code, for instance, when trying to convert a non-numeric string to an integer\n",
    "\n",
    "- <strong>FileNotFoundError</strong>: an attempt to access a file that does not exist\n",
    "\n",
    "- <strong>IndexError</strong>: an index used to access an element is out of bound\n",
    "\n",
    "- <strong>KeyError</strong>: an attempt to access an non-existant key in a dictionary\n",
    "\n",
    "- <strong>TypeError</strong>: an object is used in an incompatible manner, for instance, when trying to concatenante a string and an integer\n",
    "\n",
    "- <strong>AttributeError</strong>: an attribute or method is accessed on an object that does not possess that specific attribute or method\n",
    "\n",
    "- <strong>ImportError</strong>: an attempt to import a module that is unavailable"
   ]
  },
  {
   "cell_type": "markdown",
   "metadata": {},
   "source": [
    "## Handling Exceptions"
   ]
  },
  {
   "cell_type": "markdown",
   "metadata": {},
   "source": [
    "Use the <code>try ... except ...</code> clause to prevent the program from crashing due to exceptions.\n",
    "\n",
    "- The code that may result in an exception is placed in the <code>try</code> block. If an exception occurs, the code directly jumps to the <code>except</code> block.\n",
    "\n",
    "- The <code>except</code> block defines how the exception should be handled gracefully, such as displaying an error message or taking alternative actions.\n",
    "\n",
    "- The program continues executing the remaining code after the <code>except</code> block."
   ]
  },
  {
   "cell_type": "code",
   "execution_count": 1,
   "metadata": {},
   "outputs": [
    {
     "name": "stdout",
     "output_type": "stream",
     "text": [
      "Error: Cannot divide by zero\n",
      "outside of try and except block\n"
     ]
    }
   ],
   "source": [
    "# using Try- except \n",
    "try:\n",
    "    # Attempting to divide 10 by 0\n",
    "    result = 10 / 0\n",
    "except ZeroDivisionError:\n",
    "    # Handling the ZeroDivisionError and printing an error message\n",
    "    print(\"Error: Cannot divide by zero\")\n",
    "# This line will be executed regardless of whether an exception occurred\n",
    "print(\"outside of try and except block\")"
   ]
  },
  {
   "cell_type": "markdown",
   "metadata": {},
   "source": [
    "The <code>else</code> clause contains the codes to be executed when there is no exception."
   ]
  },
  {
   "cell_type": "markdown",
   "metadata": {},
   "source": [
    "The <code>finally</code> clause allows codes to be executed whether there is an exception or not."
   ]
  },
  {
   "cell_type": "code",
   "execution_count": 3,
   "metadata": {},
   "outputs": [
    {
     "name": "stdout",
     "output_type": "stream",
     "text": [
      "success a= 0.125\n",
      "Processing Complete\n"
     ]
    }
   ],
   "source": [
    "a = 1\n",
    "\n",
    "try:\n",
    "    b = int(input(\"Please enter a number to divide a\"))\n",
    "    a = a/b\n",
    "except ZeroDivisionError:\n",
    "    print(\"The number you provided cant divide 1 because it is 0\")\n",
    "except ValueError:\n",
    "    print(\"You did not provide a number\")\n",
    "except:\n",
    "    print(\"Something went wrong\")\n",
    "else:\n",
    "    print(\"success a=\",a)\n",
    "finally:\n",
    "    print(\"Processing Complete\")"
   ]
  }
 ],
 "metadata": {
  "kernelspec": {
   "display_name": "Python 3",
   "language": "python",
   "name": "python3"
  },
  "language_info": {
   "codemirror_mode": {
    "name": "ipython",
    "version": 3
   },
   "file_extension": ".py",
   "mimetype": "text/x-python",
   "name": "python",
   "nbconvert_exporter": "python",
   "pygments_lexer": "ipython3",
   "version": "3.12.7"
  }
 },
 "nbformat": 4,
 "nbformat_minor": 2
}
